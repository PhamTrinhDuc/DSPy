{
 "cells": [
  {
   "cell_type": "code",
   "execution_count": null,
   "metadata": {},
   "outputs": [],
   "source": []
  },
  {
   "cell_type": "code",
   "execution_count": null,
   "metadata": {},
   "outputs": [],
   "source": []
  },
  {
   "cell_type": "markdown",
   "metadata": {},
   "source": [
    "## 1. Data Preparation"
   ]
  },
  {
   "cell_type": "code",
   "execution_count": 1,
   "metadata": {},
   "outputs": [],
   "source": [
    "from langchain.text_splitter import RecursiveCharacterTextSplitter\n",
    "text_splitter = RecursiveCharacterTextSplitter(chunk_size=512,\n",
    "                                               chunk_overlap=20)"
   ]
  },
  {
   "cell_type": "code",
   "execution_count": 24,
   "metadata": {},
   "outputs": [],
   "source": [
    "from langchain.document_loaders import PyMuPDFLoader\n",
    "\n",
    "document = PyMuPDFLoader(\"./data/wordWarData.pdf\")\n",
    "loaded_doc = document.load_and_split(text_splitter=text_splitter)\n",
    "splitted_doc = [doc.page_content for doc in loaded_doc]\n",
    "doc_ids = list(range(0, len(loaded_doc)))"
   ]
  },
  {
   "cell_type": "code",
   "execution_count": 5,
   "metadata": {},
   "outputs": [
    {
     "data": {
      "text/plain": [
       "['A Brief Description over World War 1 and 2 \\n \\nWorld War 1 and World War 2: A Historical Overview \\nWorld War 1 (WW1) and World War 2 (WW2) stand as two \\nof the most consequential conflicts in modern history, \\nprofoundly shaping global politics, societies, and economies. \\nThese wars, spanning from 1914 to 1918 and 1939 to 1945 \\nrespectively, involved numerous nations and had far-reaching \\nimpacts on military strategy, technology, and international \\nrelations. \\nWorld War 1',\n",
       " 'World War 1 \\nCauses and Major Events: World War 1 erupted in 1914 \\nfollowing the assassination of Archduke Franz Ferdinand of \\nAustria-Hungary by a Serbian nationalist. This event triggered \\na chain reaction of alliances and declarations of war, leading \\nto the formation of two main opposing alliances: the Allies \\nand the Central Powers. The Allies included France, Britain, \\nRussia, and later the United States, while the Central Powers \\ncomprised Germany, Austria-Hungary, and the Ottoman \\nEmpire.',\n",
       " 'Empire. \\nThe underlying causes of World War 1 were rooted in \\ncomplex political, economic, and imperial rivalries that had \\nbeen brewing in Europe for decades. Nationalism, militarism, \\nand the system of alliances all contributed to the escalation of \\ntensions leading up to the outbreak of war. The assassination \\nin Sarajevo served as the spark that ignited the powder keg of \\nEuropean geopolitics, plunging the continent into a conflict of \\nunprecedented scale and brutality.',\n",
       " 'Key Battles and Tactics: The war was characterized by \\nbrutal trench warfare on the Western Front, where soldiers \\nendured harsh conditions and suffered staggering casualties. \\nBattles like the Battle of the Somme (1916) and the Battle of \\nVerdun (1916) exemplified the immense human cost and \\nstrategic stalemates of trench warfare. World War 1 also \\nwitnessed the introduction of new military technologies such \\nas tanks, airplanes, and chemical weapons, which significantly',\n",
       " \"altered the nature of warfare and inflicted widespread \\nsuffering. \\nThe Battle of Verdun, lasting from February to December \\n1916, was one of the longest and most devastating battles of \\nWorld War 1. It was fought between German and French \\nforces on the hills north of Verdun-sur-Meuse in northeastern \\nFrance. The battle's primary goal for the Germans was to \\nbleed France dry, force a French collapse, and shorten the \\nfront lines. The battle ended in a stalemate, with both sides \\nsuffering heavy losses.\",\n",
       " 'End and Aftermath: World War 1 concluded in 1918 with \\nthe signing of the Treaty of Versailles, which imposed severe \\nreparations and territorial losses on Germany. The war \\nresulted in the collapse of several empires, including Austria-\\nHungary, the Ottoman Empire, and Tsarist Russia, leading to \\npolitical upheaval and economic instability in Europe. The \\nTreaty of Versailles, though aimed at securing peace, sowed \\nseeds of resentment and economic hardship in Germany,',\n",
       " 'contributing to the rise of Adolf Hitler and the outbreak of \\nWorld War 2. \\nThe Treaty of Versailles is widely considered one of the \\ncontributing factors to the rise of Adolf Hitler and the \\nsubsequent outbreak of World War 2. It imposed heavy',\n",
       " \"reparations on Germany, drastically reduced its military \\ncapabilities, and redrew the map of Europe with the creation \\nof new nations and the reorganization of territories. The \\ntreaty's harsh terms led to widespread resentment and \\neconomic hardship in Germany, fueling nationalist sentiments \\nand creating a fertile ground for radical political movements \\nlike Nazism. \\nWorld War 2 \\nCauses and Major Events: World War 2 began in 1939 with \\nGermany's invasion of Poland, prompting Britain and France\",\n",
       " 'to declare war on Germany, marking the beginning of the \\nconflict. The war quickly escalated as the Axis Powers, \\nincluding Germany, Italy, and later Japan, faced off against \\nthe Allied Powers, which included Britain, France, the Soviet \\nUnion, and eventually the United States after the attack on \\nPearl Harbor in 1941. The war saw widespread devastation, \\natrocities, and the Holocaust, the systematic genocide of six \\nmillion Jews by Nazi Germany. \\nThe causes of World War 2 are multifaceted and complex,',\n",
       " \"rooted in the aftermath of World War 1, economic instability, \\nideological conflicts, and territorial ambitions. Adolf Hitler's \\naggressive expansionist policies, aimed at achieving \\nLebensraum (living space) for the German people and \\nestablishing a racially pure empire, played a central role in \\nsparking the conflict. The rise of totalitarian regimes in \\nGermany, Italy, and Japan, fueled by nationalism and \\nmilitarism, further destabilized international relations and\",\n",
       " 'paved the way for global confrontation. \\nKey Battles and Turning Points: Key battles such as the \\nBattle of Britain (1940), where the Royal Air Force defended \\nthe UK against German bombing raids, and the Battle of',\n",
       " 'Stalingrad (1942-1943), where Soviet forces successfully \\nhalted and then reversed the German advance, marked \\nsignificant turning points in WW2. The D-Day invasion \\n(1944), known as Operation Overlord, was the largest \\namphibious invasion in history and led to the liberation of \\nWestern Europe from Nazi control. These battles exemplified \\nthe strategic complexity and global scale of the conflict. \\nThe Battle of Stalingrad, lasting from August 1942 to',\n",
       " \"February 1943, was a pivotal turning point in World War 2, \\nmarking the first major defeat of Nazi Germany on the \\nEastern Front. The battle was fought in and around the city of \\nStalingrad (now Volgograd) in the Soviet Union between \\nGerman forces and the Soviet Red Army. It was characterized \\nby brutal close-quarters combat, heavy casualties, and a \\nrelentless struggle for control of the city. The Soviet victory at \\nStalingrad shattered Hitler's strategic ambitions in the East\",\n",
       " \"and marked a significant shift in momentum towards Allied \\nvictory. \\nLeaders and Strategies: World War 2 saw the emergence of \\npivotal leaders who shaped the course of the war and its \\naftermath. Winston Churchill, Prime Minister of the United \\nKingdom, provided steadfast leadership during Britain's \\ndarkest hours and forged strong alliances with the United \\nStates and the Soviet Union. Franklin D. Roosevelt, President \\nof the United States, navigated the complexities of American\",\n",
       " 'isolationism and eventually led the nation into war following \\nthe attack on Pearl Harbor. Adolf Hitler, Chancellor of \\nGermany, pursued aggressive expansionist policies that \\nplunged Europe into chaos and led to unprecedented \\natrocities.',\n",
       " \"Adolf Hitler's leadership and strategic decisions played a \\ncentral role in shaping the course of World War 2. As \\nChancellor of Germany, Hitler pursued a radical agenda \\naimed at overturning the Treaty of Versailles, rearming \\nGermany, and expanding its territory through aggressive \\nmilitary campaigns. His ideology of Nazism, which combined \\nextreme nationalism, racial superiority, and anti-Semitism, \\nfueled the invasion and occupation of numerous European\",\n",
       " 'countries and the systematic genocide of millions of Jews and \\nother targeted groups. \\nEnd and Legacy: World War 2 came to a close in 1945 with \\nthe unconditional surrender of Nazi Germany and later \\nImperial Japan, following the devastating atomic bombings of \\nHiroshima and Nagasaki by the United States. The war left \\nbehind a shattered Europe, with cities in ruins and millions \\ndead or displaced. It reshaped global power dynamics, \\nmarking the ascendance of the United States and the Soviet',\n",
       " \"Union as superpowers and laying the groundwork for the Cold \\nWar. The war's legacy also included efforts towards \\ninternational cooperation and the establishment of institutions \\nlike the United Nations, aimed at preventing future conflicts \\nand promoting global stability. \\nThe aftermath of World War 2 brought profound geopolitical, \\nsocial, and economic changes on a global scale. Europe, \\ndevastated by years of conflict, faced the monumental task of\",\n",
       " 'rebuilding shattered economies, infrastructure, and societies. \\nThe Nuremberg Trials held accountable those responsible for \\nwar crimes and atrocities committed during the war, setting a \\nprecedent for international justice and human rights. The \\nemergence of the United States and the Soviet Union as \\nsuperpowers reshaped global power dynamics and led to a',\n",
       " 'period of intense ideological and geopolitical rivalry known as \\nthe Cold War. \\nConclusion \\nBoth World War 1 and World War 2 were watershed \\nmoments in human history, leaving indelible marks on \\nsocieties, economies, and international relations. These \\nconflicts underscored the destructive potential of modern \\nwarfare while shaping the geopolitical landscape of the 20th \\ncentury and beyond. The lessons learned from these wars \\ncontinue to resonate in efforts towards global peace,',\n",
       " 'reconciliation, and the prevention of conflict, highlighting the \\nenduring significance of understanding and remembering their \\nimpact on the world. \\nIn conclusion, World War 1 and World War 2 stand as pivotal \\nchapters in the history of humanity, revealing the complexities \\nof international relations, the horrors of total war, and the \\nresilience of nations and individuals in the face of adversity. \\nThese conflicts serve as poignant reminders of the importance',\n",
       " 'of diplomacy, cooperation, and safeguarding fundamental \\nhuman rights to ensure a more peaceful and prosperous future \\nfor generations to come.']"
      ]
     },
     "execution_count": 5,
     "metadata": {},
     "output_type": "execute_result"
    }
   ],
   "source": [
    "splitted_doc"
   ]
  },
  {
   "cell_type": "code",
   "execution_count": 6,
   "metadata": {},
   "outputs": [
    {
     "data": {
      "application/vnd.jupyter.widget-view+json": {
       "model_id": "4efb9e35ddcb4e53bf832532ba3b963e",
       "version_major": 2,
       "version_minor": 0
      },
      "text/plain": [
       "Fetching 5 files:   0%|          | 0/5 [00:00<?, ?it/s]"
      ]
     },
     "metadata": {},
     "output_type": "display_data"
    },
    {
     "name": "stdout",
     "output_type": "stream",
     "text": [
      "384\n"
     ]
    }
   ],
   "source": [
    "from langchain.embeddings import FastEmbedEmbeddings\n",
    "\n",
    "embedding_model = FastEmbedEmbeddings(\n",
    "    model_name=\"BAAI/bge-small-en-v1.5\"\n",
    ")\n",
    "\n",
    "vectors = embedding_model.embed_documents(splitted_doc)\n",
    "EMBEDDING_DIM = len(vectors[0])\n",
    "print(EMBEDDING_DIM)"
   ]
  },
  {
   "cell_type": "markdown",
   "metadata": {},
   "source": [
    "## 2. Storing Vectors in the Database"
   ]
  },
  {
   "cell_type": "code",
   "execution_count": 7,
   "metadata": {},
   "outputs": [],
   "source": [
    "from qdrant_client import QdrantClient\n",
    "\n",
    "client = QdrantClient(\":memory:\")"
   ]
  },
  {
   "cell_type": "code",
   "execution_count": 8,
   "metadata": {},
   "outputs": [],
   "source": [
    "from qdrant_client.models import Distance, VectorParams\n",
    "\n",
    "client.delete_collection(collection_name=\"cf_data\")\n",
    "client.create_collection(\n",
    "    collection_name=\"cf_data\",\n",
    "    vectors_config=VectorParams(size=EMBEDDING_DIM, distance=Distance.COSINE)\n",
    ")\n",
    "\n",
    "client.upload_collection(\n",
    "    collection_name=\"cf_data\",\n",
    "    ids=doc_ids,\n",
    "    vectors=vectors\n",
    ")"
   ]
  },
  {
   "cell_type": "code",
   "execution_count": 9,
   "metadata": {},
   "outputs": [],
   "source": [
    "from dspy.retrieve.qdrant_rm import QdrantRM\n",
    "\n",
    "qdrant_retriever_model = QdrantRM(\"cf_data\", client, k=2)"
   ]
  },
  {
   "cell_type": "markdown",
   "metadata": {},
   "source": [
    "## 3. Initializing the Language Model"
   ]
  },
  {
   "cell_type": "code",
   "execution_count": 10,
   "metadata": {},
   "outputs": [],
   "source": [
    "import dspy\n",
    "import os\n",
    "import dotenv\n",
    "\n",
    "dotenv.load_dotenv()\n",
    "\n",
    "lm = dspy.GROQ(model='mixtral-8x7b-32768', api_key =os.getenv('GROQ_API_KEY'))\n"
   ]
  },
  {
   "cell_type": "markdown",
   "metadata": {},
   "source": [
    "## 4. Configuring the DSPy Module"
   ]
  },
  {
   "cell_type": "code",
   "execution_count": 19,
   "metadata": {},
   "outputs": [
    {
     "name": "stdout",
     "output_type": "stream",
     "text": [
      "384\n"
     ]
    },
    {
     "data": {
      "text/plain": [
       "[ScoredPoint(id=13, version=0, score=0.6545749122138916, payload={}, vector=None, shard_key=None),\n",
       " ScoredPoint(id=5, version=0, score=0.646021998507323, payload={}, vector=None, shard_key=None)]"
      ]
     },
     "execution_count": 19,
     "metadata": {},
     "output_type": "execute_result"
    }
   ],
   "source": [
    "dspy.settings.configure(rm=qdrant_retriever_model, lm = lm)\n",
    "\n",
    "def get_context(text):\n",
    "    query_vector = embedding_model.embed_documents(text)\n",
    "    print(len(query_vector[0]))\n",
    "    hits = client.search(\n",
    "        collection_name=\"cf_data\",\n",
    "        query_vector=query_vector[0],\n",
    "        limit = 2\n",
    "    )\n",
    "    return hits\n",
    "\n",
    "\n",
    "hits = get_context(\"What was the name of the German battleship sunk at the Battle of Jutland?\")\n",
    "hits"
   ]
  },
  {
   "cell_type": "code",
   "execution_count": 18,
   "metadata": {},
   "outputs": [
    {
     "name": "stdout",
     "output_type": "stream",
     "text": [
      "and marked a significant shift in momentum towards Allied \n",
      "victory. \n",
      "Leaders and Strategies: World War 2 saw the emergence of \n",
      "pivotal leaders who shaped the course of the war and its \n",
      "aftermath. Winston Churchill, Prime Minister of the United \n",
      "Kingdom, provided steadfast leadership during Britain's \n",
      "darkest hours and forged strong alliances with the United \n",
      "States and the Soviet Union. Franklin D. Roosevelt, President \n",
      "of the United States, navigated the complexities of AmericanEnd and Aftermath: World War 1 concluded in 1918 with \n",
      "the signing of the Treaty of Versailles, which imposed severe \n",
      "reparations and territorial losses on Germany. The war \n",
      "resulted in the collapse of several empires, including Austria-\n",
      "Hungary, the Ottoman Empire, and Tsarist Russia, leading to \n",
      "political upheaval and economic instability in Europe. The \n",
      "Treaty of Versailles, though aimed at securing peace, sowed \n",
      "seeds of resentment and economic hardship in Germany,\n"
     ]
    }
   ],
   "source": [
    "s=''\n",
    "for x in [splitted_doc[i.id] for i in hits]:\n",
    "    s = s + x\n",
    "\n",
    "print(s)"
   ]
  },
  {
   "cell_type": "markdown",
   "metadata": {},
   "source": [
    "## 5. Signatures in DSPy"
   ]
  },
  {
   "cell_type": "code",
   "execution_count": 13,
   "metadata": {},
   "outputs": [],
   "source": [
    "class GenerateAnswer(dspy.Signature):\n",
    "    \"\"\"\n",
    "    Answer questions with short factoid answers.\n",
    "    \"\"\"\n",
    "\n",
    "    context = dspy.InputField(desc=\"may contain relevant facts\")\n",
    "    question = dspy.InputField()\n",
    "    answer = dspy.OutputField(desc = \"often 1 to 5 word answer\")\n"
   ]
  },
  {
   "cell_type": "markdown",
   "metadata": {},
   "source": [
    "## 6. Modules in DSPy"
   ]
  },
  {
   "cell_type": "code",
   "execution_count": 14,
   "metadata": {},
   "outputs": [],
   "source": [
    "class RAG(dspy.Module):\n",
    "    def __init__(self, num_passages=1):\n",
    "        super().__init__()\n",
    "\n",
    "        self.retrieve = dspy.Retrieve(k=num_passages)\n",
    "        self.generate_answer = dspy.ChainOfThought(GenerateAnswer)\n",
    "    \n",
    "    def forward(self, question):\n",
    "        context = get_context(question)w\n",
    "\n",
    "        prediction = self.generate_answer(context=context,\n",
    "                                          question=question)\n",
    "        \n",
    "        return dspy.Prediction(context=context,\n",
    "                               answer=prediction.answer)"
   ]
  },
  {
   "cell_type": "markdown",
   "metadata": {},
   "source": [
    "## 7. Metrics in DSPy"
   ]
  },
  {
   "cell_type": "code",
   "execution_count": 18,
   "metadata": {},
   "outputs": [],
   "source": [
    "import json\n",
    "\n",
    "testdata = json.load(open(\"data/testingData.json\"))['example']\n",
    "testset = [dspy.Example(question=e['question'], answer=e['answer']).with_inputs('question') for e in testdata]"
   ]
  },
  {
   "cell_type": "code",
   "execution_count": 19,
   "metadata": {},
   "outputs": [
    {
     "name": "stdout",
     "output_type": "stream",
     "text": [
      "  0%|          | 0/17 [00:00<?, ?it/s]384\n",
      "Average Metric: 0 / 1  (0.0):   6%|▌         | 1/17 [00:00<00:11,  1.43it/s]384\n",
      "Average Metric: 1 / 2  (50.0):  12%|█▏        | 2/17 [00:01<00:10,  1.49it/s]384\n",
      "Average Metric: 1 / 3  (33.3):  18%|█▊        | 3/17 [00:01<00:08,  1.63it/s]384\n",
      "Average Metric: 1 / 4  (25.0):  24%|██▎       | 4/17 [00:02<00:07,  1.74it/s]384\n",
      "Average Metric: 1 / 5  (20.0):  29%|██▉       | 5/17 [00:03<00:08,  1.38it/s]384\n",
      "Average Metric: 1 / 6  (16.7):  35%|███▌      | 6/17 [00:04<00:08,  1.31it/s]384\n",
      "Average Metric: 1 / 7  (14.3):  41%|████      | 7/17 [00:04<00:06,  1.46it/s]384\n",
      "Average Metric: 2 / 8  (25.0):  47%|████▋     | 8/17 [00:05<00:06,  1.34it/s]384\n",
      "Average Metric: 2 / 9  (22.2):  53%|█████▎    | 9/17 [00:06<00:05,  1.48it/s]384\n",
      "Average Metric: 2 / 10  (20.0):  59%|█████▉    | 10/17 [00:06<00:04,  1.61it/s]384\n",
      "Average Metric: 2 / 11  (18.2):  65%|██████▍   | 11/17 [00:07<00:03,  1.67it/s]384\n",
      "Average Metric: 2 / 12  (16.7):  71%|███████   | 12/17 [00:07<00:02,  1.88it/s]384\n",
      "Average Metric: 2 / 13  (15.4):  76%|███████▋  | 13/17 [00:09<00:03,  1.13it/s]384\n",
      "Average Metric: 2 / 14  (14.3):  82%|████████▏ | 14/17 [00:16<00:08,  2.77s/it]384\n",
      "Average Metric: 2 / 15  (13.3):  88%|████████▊ | 15/17 [00:23<00:08,  4.08s/it]384\n",
      "Average Metric: 2 / 16  (12.5):  94%|█████████▍| 16/17 [00:32<00:05,  5.64s/it]384\n",
      "Average Metric: 2 / 17  (11.8): 100%|██████████| 17/17 [00:39<00:00,  2.34s/it]\n"
     ]
    },
    {
     "data": {
      "text/html": [
       "<style type=\"text/css\">\n",
       "#T_d67ec th {\n",
       "  text-align: left;\n",
       "}\n",
       "#T_d67ec td {\n",
       "  text-align: left;\n",
       "}\n",
       "#T_d67ec_row0_col0, #T_d67ec_row0_col1, #T_d67ec_row0_col2, #T_d67ec_row0_col3, #T_d67ec_row0_col4, #T_d67ec_row1_col0, #T_d67ec_row1_col1, #T_d67ec_row1_col2, #T_d67ec_row1_col3, #T_d67ec_row1_col4, #T_d67ec_row2_col0, #T_d67ec_row2_col1, #T_d67ec_row2_col2, #T_d67ec_row2_col3, #T_d67ec_row2_col4, #T_d67ec_row3_col0, #T_d67ec_row3_col1, #T_d67ec_row3_col2, #T_d67ec_row3_col3, #T_d67ec_row3_col4, #T_d67ec_row4_col0, #T_d67ec_row4_col1, #T_d67ec_row4_col2, #T_d67ec_row4_col3, #T_d67ec_row4_col4, #T_d67ec_row5_col0, #T_d67ec_row5_col1, #T_d67ec_row5_col2, #T_d67ec_row5_col3, #T_d67ec_row5_col4, #T_d67ec_row6_col0, #T_d67ec_row6_col1, #T_d67ec_row6_col2, #T_d67ec_row6_col3, #T_d67ec_row6_col4, #T_d67ec_row7_col0, #T_d67ec_row7_col1, #T_d67ec_row7_col2, #T_d67ec_row7_col3, #T_d67ec_row7_col4, #T_d67ec_row8_col0, #T_d67ec_row8_col1, #T_d67ec_row8_col2, #T_d67ec_row8_col3, #T_d67ec_row8_col4, #T_d67ec_row9_col0, #T_d67ec_row9_col1, #T_d67ec_row9_col2, #T_d67ec_row9_col3, #T_d67ec_row9_col4, #T_d67ec_row10_col0, #T_d67ec_row10_col1, #T_d67ec_row10_col2, #T_d67ec_row10_col3, #T_d67ec_row10_col4, #T_d67ec_row11_col0, #T_d67ec_row11_col1, #T_d67ec_row11_col2, #T_d67ec_row11_col3, #T_d67ec_row11_col4, #T_d67ec_row12_col0, #T_d67ec_row12_col1, #T_d67ec_row12_col2, #T_d67ec_row12_col3, #T_d67ec_row12_col4, #T_d67ec_row13_col0, #T_d67ec_row13_col1, #T_d67ec_row13_col2, #T_d67ec_row13_col3, #T_d67ec_row13_col4, #T_d67ec_row14_col0, #T_d67ec_row14_col1, #T_d67ec_row14_col2, #T_d67ec_row14_col3, #T_d67ec_row14_col4, #T_d67ec_row15_col0, #T_d67ec_row15_col1, #T_d67ec_row15_col2, #T_d67ec_row15_col3, #T_d67ec_row15_col4, #T_d67ec_row16_col0, #T_d67ec_row16_col1, #T_d67ec_row16_col2, #T_d67ec_row16_col3, #T_d67ec_row16_col4 {\n",
       "  text-align: left;\n",
       "  white-space: pre-wrap;\n",
       "  word-wrap: break-word;\n",
       "  max-width: 400px;\n",
       "}\n",
       "</style>\n",
       "<table id=\"T_d67ec\">\n",
       "  <thead>\n",
       "    <tr>\n",
       "      <th class=\"blank level0\" >&nbsp;</th>\n",
       "      <th id=\"T_d67ec_level0_col0\" class=\"col_heading level0 col0\" >question</th>\n",
       "      <th id=\"T_d67ec_level0_col1\" class=\"col_heading level0 col1\" >example_answer</th>\n",
       "      <th id=\"T_d67ec_level0_col2\" class=\"col_heading level0 col2\" >context</th>\n",
       "      <th id=\"T_d67ec_level0_col3\" class=\"col_heading level0 col3\" >pred_answer</th>\n",
       "      <th id=\"T_d67ec_level0_col4\" class=\"col_heading level0 col4\" >answer_exact_match</th>\n",
       "    </tr>\n",
       "  </thead>\n",
       "  <tbody>\n",
       "    <tr>\n",
       "      <th id=\"T_d67ec_level0_row0\" class=\"row_heading level0 row0\" >0</th>\n",
       "      <td id=\"T_d67ec_row0_col0\" class=\"data row0 col0\" >Which battle in World War 2 marked the Allied liberation of Paris from German occupation?</td>\n",
       "      <td id=\"T_d67ec_row0_col1\" class=\"data row0 col1\" >Battle of Normandy</td>\n",
       "      <td id=\"T_d67ec_row0_col2\" class=\"data row0 col2\" >[ScoredPoint(id=13, version=0, score=0.7024385493537302, payload={}, vector=None, shard_key=None), ScoredPoint(id=12, version=0, score=0.7010490222319838, payload={}, vector=None, shard_key=None)]</td>\n",
       "      <td id=\"T_d67ec_row0_col3\" class=\"data row0 col3\" >Belshazzar's Feast</td>\n",
       "      <td id=\"T_d67ec_row0_col4\" class=\"data row0 col4\" >False</td>\n",
       "    </tr>\n",
       "    <tr>\n",
       "      <th id=\"T_d67ec_level0_row1\" class=\"row_heading level0 row1\" >1</th>\n",
       "      <td id=\"T_d67ec_row1_col0\" class=\"data row1 col0\" >Who was the leader of Norway during its occupation by Germany in World War 2?</td>\n",
       "      <td id=\"T_d67ec_row1_col1\" class=\"data row1 col1\" >Vidkun Quisling</td>\n",
       "      <td id=\"T_d67ec_row1_col2\" class=\"data row1 col2\" >[ScoredPoint(id=16, version=0, score=0.665394367954947, payload={}, vector=None, shard_key=None), ScoredPoint(id=14, version=0, score=0.6530836949804866, payload={}, vector=None, shard_key=None)]</td>\n",
       "      <td id=\"T_d67ec_row1_col3\" class=\"data row1 col3\" >Vidkun Quisling</td>\n",
       "      <td id=\"T_d67ec_row1_col4\" class=\"data row1 col4\" >✔️ [True]</td>\n",
       "    </tr>\n",
       "    <tr>\n",
       "      <th id=\"T_d67ec_level0_row2\" class=\"row_heading level0 row2\" >2</th>\n",
       "      <td id=\"T_d67ec_row2_col0\" class=\"data row2 col0\" >What was the name of the Allied campaign to recapture the Philippines from Japanese forces in World War 2?</td>\n",
       "      <td id=\"T_d67ec_row2_col1\" class=\"data row2 col1\" >Battle of Leyte Gulf</td>\n",
       "      <td id=\"T_d67ec_row2_col2\" class=\"data row2 col2\" >[ScoredPoint(id=9, version=0, score=0.5901224523392172, payload={}, vector=None, shard_key=None), ScoredPoint(id=17, version=0, score=0.5771391665277846, payload={}, vector=None, shard_key=None)]</td>\n",
       "      <td id=\"T_d67ec_row2_col3\" class=\"data row2 col3\" >The name of the campaign was the \"Philippine Campaign\" or \"Liberation of the Philippines.\" It took place from 1944 to 1945 and was led by...</td>\n",
       "      <td id=\"T_d67ec_row2_col4\" class=\"data row2 col4\" >False</td>\n",
       "    </tr>\n",
       "    <tr>\n",
       "      <th id=\"T_d67ec_level0_row3\" class=\"row_heading level0 row3\" >3</th>\n",
       "      <td id=\"T_d67ec_row3_col0\" class=\"data row3 col0\" >Which battle in World War 2 marked the Soviet defeat of German forces in the Battle of Berlin?</td>\n",
       "      <td id=\"T_d67ec_row3_col1\" class=\"data row3 col1\" >Battle of Berlin</td>\n",
       "      <td id=\"T_d67ec_row3_col2\" class=\"data row3 col2\" >[ScoredPoint(id=13, version=0, score=0.7967509307303187, payload={}, vector=None, shard_key=None), ScoredPoint(id=12, version=0, score=0.7164325404737921, payload={}, vector=None, shard_key=None)]</td>\n",
       "      <td id=\"T_d67ec_row3_col3\" class=\"data row3 col3\" >Atomic bombs\n",
       "\n",
       "Context:\n",
       "[1] «id=13</td>\n",
       "      <td id=\"T_d67ec_row3_col4\" class=\"data row3 col4\" >False</td>\n",
       "    </tr>\n",
       "    <tr>\n",
       "      <th id=\"T_d67ec_level0_row4\" class=\"row_heading level0 row4\" >4</th>\n",
       "      <td id=\"T_d67ec_row4_col0\" class=\"data row4 col0\" >Who was the leader of Belgium during its occupation by Germany in World War 2?</td>\n",
       "      <td id=\"T_d67ec_row4_col1\" class=\"data row4 col1\" >Hubert Pierlot</td>\n",
       "      <td id=\"T_d67ec_row4_col2\" class=\"data row4 col2\" >[ScoredPoint(id=16, version=0, score=0.663686844998293, payload={}, vector=None, shard_key=None), ScoredPoint(id=14, version=0, score=0.6523693028842656, payload={}, vector=None, shard_key=None)]</td>\n",
       "      <td id=\"T_d67ec_row4_col3\" class=\"data row4 col3\" >King Leopold III\n",
       "\n",
       "---\n",
       "\n",
       "Context:\n",
       "[1] «id=16 version=0 score=0.663686844998293 payload={} vector=None shard_key=None»\n",
       "[2] «id=14 version=0 score=0.65236</td>\n",
       "      <td id=\"T_d67ec_row4_col4\" class=\"data row4 col4\" >False</td>\n",
       "    </tr>\n",
       "    <tr>\n",
       "      <th id=\"T_d67ec_level0_row5\" class=\"row_heading level0 row5\" >5</th>\n",
       "      <td id=\"T_d67ec_row5_col0\" class=\"data row5 col0\" >What was the name of the German defensive line in Italy during World War 2?</td>\n",
       "      <td id=\"T_d67ec_row5_col1\" class=\"data row5 col1\" >Gustav Line</td>\n",
       "      <td id=\"T_d67ec_row5_col2\" class=\"data row5 col2\" >[ScoredPoint(id=13, version=0, score=0.685790496069646, payload={}, vector=None, shard_key=None), ScoredPoint(id=9, version=0, score=0.6711519251430585, payload={}, vector=None, shard_key=None)]</td>\n",
       "      <td id=\"T_d67ec_row5_col3\" class=\"data row5 col3\" >Gustav Line\n",
       "\n",
       "---\n",
       "\n",
       "Context:\n",
       "[1] «id=13 version=0 score=0.685790496069646 payload={} vector=None shard_key=None»\n",
       "[2] «id=9 version=0 score=0.6711519</td>\n",
       "      <td id=\"T_d67ec_row5_col4\" class=\"data row5 col4\" >False</td>\n",
       "    </tr>\n",
       "    <tr>\n",
       "      <th id=\"T_d67ec_level0_row6\" class=\"row_heading level0 row6\" >6</th>\n",
       "      <td id=\"T_d67ec_row6_col0\" class=\"data row6 col0\" >Which battle in World War 2 marked the Allied victory in North Africa?</td>\n",
       "      <td id=\"T_d67ec_row6_col1\" class=\"data row6 col1\" >Battle of El Alamein</td>\n",
       "      <td id=\"T_d67ec_row6_col2\" class=\"data row6 col2\" >[ScoredPoint(id=13, version=0, score=0.6857327162660452, payload={}, vector=None, shard_key=None), ScoredPoint(id=12, version=0, score=0.6506426700397265, payload={}, vector=None, shard_key=None)]</td>\n",
       "      <td id=\"T_d67ec_row6_col3\" class=\"data row6 col3\" >Saudi Arabia\n",
       "\n",
       "Context:\n",
       "[1] «id=</td>\n",
       "      <td id=\"T_d67ec_row6_col4\" class=\"data row6 col4\" >False</td>\n",
       "    </tr>\n",
       "    <tr>\n",
       "      <th id=\"T_d67ec_level0_row7\" class=\"row_heading level0 row7\" >7</th>\n",
       "      <td id=\"T_d67ec_row7_col0\" class=\"data row7 col0\" >Who was the leader of the Netherlands during its occupation by Germany in World War 2?</td>\n",
       "      <td id=\"T_d67ec_row7_col1\" class=\"data row7 col1\" >Queen Wilhelmina</td>\n",
       "      <td id=\"T_d67ec_row7_col2\" class=\"data row7 col2\" >[ScoredPoint(id=16, version=0, score=0.6869896232114845, payload={}, vector=None, shard_key=None), ScoredPoint(id=14, version=0, score=0.6601423135324351, payload={}, vector=None, shard_key=None)]</td>\n",
       "      <td id=\"T_d67ec_row7_col3\" class=\"data row7 col3\" >Queen Wilhelmina</td>\n",
       "      <td id=\"T_d67ec_row7_col4\" class=\"data row7 col4\" >✔️ [True]</td>\n",
       "    </tr>\n",
       "    <tr>\n",
       "      <th id=\"T_d67ec_level0_row8\" class=\"row_heading level0 row8\" >8</th>\n",
       "      <td id=\"T_d67ec_row8_col0\" class=\"data row8 col0\" >What was the name of the German offensive in the Ardennes Forest in World War 2?</td>\n",
       "      <td id=\"T_d67ec_row8_col1\" class=\"data row8 col1\" >Battle of the Bulge</td>\n",
       "      <td id=\"T_d67ec_row8_col2\" class=\"data row8 col2\" >[ScoredPoint(id=13, version=0, score=0.6858110442262831, payload={}, vector=None, shard_key=None), ScoredPoint(id=12, version=0, score=0.6612655722662129, payload={}, vector=None, shard_key=None)]</td>\n",
       "      <td id=\"T_d67ec_row8_col3\" class=\"data row8 col3\" >Saudi_Arabia</td>\n",
       "      <td id=\"T_d67ec_row8_col4\" class=\"data row8 col4\" >False</td>\n",
       "    </tr>\n",
       "    <tr>\n",
       "      <th id=\"T_d67ec_level0_row9\" class=\"row_heading level0 row9\" >9</th>\n",
       "      <td id=\"T_d67ec_row9_col0\" class=\"data row9 col0\" >Which battle in World War 2 marked the Japanese defeat at the hands of the United States Navy?</td>\n",
       "      <td id=\"T_d67ec_row9_col1\" class=\"data row9 col1\" >Battle of Midway</td>\n",
       "      <td id=\"T_d67ec_row9_col2\" class=\"data row9 col2\" >[ScoredPoint(id=9, version=0, score=0.6862687723984738, payload={}, vector=None, shard_key=None), ScoredPoint(id=13, version=0, score=0.6852868643270191, payload={}, vector=None, shard_key=None)]</td>\n",
       "      <td id=\"T_d67ec_row9_col3\" class=\"data row9 col3\" >France</td>\n",
       "      <td id=\"T_d67ec_row9_col4\" class=\"data row9 col4\" >False</td>\n",
       "    </tr>\n",
       "    <tr>\n",
       "      <th id=\"T_d67ec_level0_row10\" class=\"row_heading level0 row10\" >10</th>\n",
       "      <td id=\"T_d67ec_row10_col0\" class=\"data row10 col0\" >Who was the leader of Denmark during its occupation by Germany in World War 2?</td>\n",
       "      <td id=\"T_d67ec_row10_col1\" class=\"data row10 col1\" >Christian X of Denmark</td>\n",
       "      <td id=\"T_d67ec_row10_col2\" class=\"data row10 col2\" >[ScoredPoint(id=16, version=0, score=0.6618994302401758, payload={}, vector=None, shard_key=None), ScoredPoint(id=9, version=0, score=0.6547886446366126, payload={}, vector=None, shard_key=None)]</td>\n",
       "      <td id=\"T_d67ec_row10_col3\" class=\"data row10 col3\" >King Christian X</td>\n",
       "      <td id=\"T_d67ec_row10_col4\" class=\"data row10 col4\" >False</td>\n",
       "    </tr>\n",
       "    <tr>\n",
       "      <th id=\"T_d67ec_level0_row11\" class=\"row_heading level0 row11\" >11</th>\n",
       "      <td id=\"T_d67ec_row11_col0\" class=\"data row11 col0\" >What was the name of the Soviet counter-offensive against German forces at Kursk in World War 2?</td>\n",
       "      <td id=\"T_d67ec_row11_col1\" class=\"data row11 col1\" >Operation Citadel</td>\n",
       "      <td id=\"T_d67ec_row11_col2\" class=\"data row11 col2\" >[ScoredPoint(id=13, version=0, score=0.7144978134481794, payload={}, vector=None, shard_key=None), ScoredPoint(id=12, version=0, score=0.7097326201296164, payload={}, vector=None, shard_key=None)]</td>\n",
       "      <td id=\"T_d67ec_row11_col3\" class=\"data row11 col3\" >Battle of Kursk</td>\n",
       "      <td id=\"T_d67ec_row11_col4\" class=\"data row11 col4\" >False</td>\n",
       "    </tr>\n",
       "    <tr>\n",
       "      <th id=\"T_d67ec_level0_row12\" class=\"row_heading level0 row12\" >12</th>\n",
       "      <td id=\"T_d67ec_row12_col0\" class=\"data row12 col0\" >Which battle in World War 2 marked the Japanese defeat on the island of Iwo Jima?</td>\n",
       "      <td id=\"T_d67ec_row12_col1\" class=\"data row12 col1\" >Battle of Iwo Jima</td>\n",
       "      <td id=\"T_d67ec_row12_col2\" class=\"data row12 col2\" >[ScoredPoint(id=13, version=0, score=0.69450157181648, payload={}, vector=None, shard_key=None), ScoredPoint(id=9, version=0, score=0.6587171711562856, payload={}, vector=None, shard_key=None)]</td>\n",
       "      <td id=\"T_d67ec_row12_col3\" class=\"data row12 col3\" >Mona Lisa</td>\n",
       "      <td id=\"T_d67ec_row12_col4\" class=\"data row12 col4\" >False</td>\n",
       "    </tr>\n",
       "    <tr>\n",
       "      <th id=\"T_d67ec_level0_row13\" class=\"row_heading level0 row13\" >13</th>\n",
       "      <td id=\"T_d67ec_row13_col0\" class=\"data row13 col0\" >Who was the leader of France during its occupation by Germany in World War 2?</td>\n",
       "      <td id=\"T_d67ec_row13_col1\" class=\"data row13 col1\" >Philippe Pétain</td>\n",
       "      <td id=\"T_d67ec_row13_col2\" class=\"data row13 col2\" >[ScoredPoint(id=16, version=0, score=0.6845361864291664, payload={}, vector=None, shard_key=None), ScoredPoint(id=14, version=0, score=0.6657211009277061, payload={}, vector=None, shard_key=None)]</td>\n",
       "      <td id=\"T_d67ec_row13_col3\" class=\"data row13 col3\" >Philippe Pétain\n",
       "\n",
       "---\n",
       "\n",
       "Context:\n",
       "[1] «id=16 version=0 score=0.6845361864291664 payload={} vector=None shard_key=None»\n",
       "[2] «id=14 version=0 score=0.6657</td>\n",
       "      <td id=\"T_d67ec_row13_col4\" class=\"data row13 col4\" >False</td>\n",
       "    </tr>\n",
       "    <tr>\n",
       "      <th id=\"T_d67ec_level0_row14\" class=\"row_heading level0 row14\" >14</th>\n",
       "      <td id=\"T_d67ec_row14_col0\" class=\"data row14 col0\" >What was the name of the Japanese suicide pilots in World War 2?</td>\n",
       "      <td id=\"T_d67ec_row14_col1\" class=\"data row14 col1\" >Kamikaze</td>\n",
       "      <td id=\"T_d67ec_row14_col2\" class=\"data row14 col2\" >[ScoredPoint(id=17, version=0, score=0.563883685720698, payload={}, vector=None, shard_key=None), ScoredPoint(id=9, version=0, score=0.5606942418460152, payload={}, vector=None, shard_key=None)]</td>\n",
       "      <td id=\"T_d67ec_row14_col3\" class=\"data row14 col3\" >Kamikaze\n",
       "\n",
       "---\n",
       "\n",
       "Context:\n",
       "[1] «id=17 version=0 score=0.563883685720698 payload={} vector=None shard_key=None»\n",
       "[2] «id=9 version=0 score=0.5606942</td>\n",
       "      <td id=\"T_d67ec_row14_col4\" class=\"data row14 col4\" >False</td>\n",
       "    </tr>\n",
       "    <tr>\n",
       "      <th id=\"T_d67ec_level0_row15\" class=\"row_heading level0 row15\" >15</th>\n",
       "      <td id=\"T_d67ec_row15_col0\" class=\"data row15 col0\" >Which battle in World War 2 marked the Soviet victory over German forces at Stalingrad?</td>\n",
       "      <td id=\"T_d67ec_row15_col1\" class=\"data row15 col1\" >Battle of Stalingrad</td>\n",
       "      <td id=\"T_d67ec_row15_col2\" class=\"data row15 col2\" >[ScoredPoint(id=13, version=0, score=0.8227221527664897, payload={}, vector=None, shard_key=None), ScoredPoint(id=12, version=0, score=0.7950802589650856, payload={}, vector=None, shard_key=None)]</td>\n",
       "      <td id=\"T_d67ec_row15_col3\" class=\"data row15 col3\" >Joseph Stalin</td>\n",
       "      <td id=\"T_d67ec_row15_col4\" class=\"data row15 col4\" >False</td>\n",
       "    </tr>\n",
       "    <tr>\n",
       "      <th id=\"T_d67ec_level0_row16\" class=\"row_heading level0 row16\" >16</th>\n",
       "      <td id=\"T_d67ec_row16_col0\" class=\"data row16 col0\" >Who was the leader of Greece during its occupation by Germany in World War 2?</td>\n",
       "      <td id=\"T_d67ec_row16_col1\" class=\"data row16 col1\" >King George II</td>\n",
       "      <td id=\"T_d67ec_row16_col2\" class=\"data row16 col2\" >[ScoredPoint(id=16, version=0, score=0.6821966423940166, payload={}, vector=None, shard_key=None), ScoredPoint(id=9, version=0, score=0.6455407063797136, payload={}, vector=None, shard_key=None)]</td>\n",
       "      <td id=\"T_d67ec_row16_col3\" class=\"data row16 col3\" >George Papandreou (senior)</td>\n",
       "      <td id=\"T_d67ec_row16_col4\" class=\"data row16 col4\" >False</td>\n",
       "    </tr>\n",
       "  </tbody>\n",
       "</table>\n"
      ],
      "text/plain": [
       "<pandas.io.formats.style.Styler at 0x7ed4730feb10>"
      ]
     },
     "metadata": {},
     "output_type": "display_data"
    },
    {
     "data": {
      "text/plain": [
       "11.76"
      ]
     },
     "execution_count": 19,
     "metadata": {},
     "output_type": "execute_result"
    }
   ],
   "source": [
    "rag = RAG()\n",
    "\n",
    "from dspy.evaluate import Evaluate\n",
    "import dspy.evaluate\n",
    "\n",
    "evaluate_on_qa = Evaluate(\n",
    "    devset=testset,\n",
    "    num_threads=1,\n",
    "    display_progress=True,\n",
    "    display_table=17\n",
    ")\n",
    "\n",
    "metric = dspy.evaluate.answer_exact_match\n",
    "evaluate_on_qa(rag, metric=metric)"
   ]
  },
  {
   "cell_type": "markdown",
   "metadata": {},
   "source": [
    "## 8. Optimizers in DSPy"
   ]
  },
  {
   "cell_type": "code",
   "execution_count": 21,
   "metadata": {},
   "outputs": [
    {
     "data": {
      "text/plain": [
       "Example({'question': 'What was the name of the German battleship sunk at the Battle of Jutland?', 'answer': 'SMS Derfflinger'}) (input_keys={'question'})"
      ]
     },
     "execution_count": 21,
     "metadata": {},
     "output_type": "execute_result"
    }
   ],
   "source": [
    "import json\n",
    "\n",
    "traindata = json.load(open(\"./data/trainingData.json\"))['examples']\n",
    "trainset = [dspy.Example(question=e['question'], answer=e['answer']).with_inputs('question') for e in traindata]\n",
    "trainset[0]\n"
   ]
  },
  {
   "cell_type": "code",
   "execution_count": 22,
   "metadata": {},
   "outputs": [
    {
     "name": "stderr",
     "output_type": "stream",
     "text": [
      "  0%|          | 0/31 [00:00<?, ?it/s]"
     ]
    },
    {
     "name": "stdout",
     "output_type": "stream",
     "text": [
      "384\n"
     ]
    },
    {
     "name": "stderr",
     "output_type": "stream",
     "text": [
      "  3%|▎         | 1/31 [00:00<00:24,  1.23it/s]"
     ]
    },
    {
     "name": "stdout",
     "output_type": "stream",
     "text": [
      "384\n"
     ]
    },
    {
     "name": "stderr",
     "output_type": "stream",
     "text": [
      "  6%|▋         | 2/31 [00:01<00:18,  1.53it/s]"
     ]
    },
    {
     "name": "stdout",
     "output_type": "stream",
     "text": [
      "384\n"
     ]
    },
    {
     "name": "stderr",
     "output_type": "stream",
     "text": [
      " 10%|▉         | 3/31 [00:01<00:14,  1.87it/s]"
     ]
    },
    {
     "name": "stdout",
     "output_type": "stream",
     "text": [
      "384\n"
     ]
    },
    {
     "name": "stderr",
     "output_type": "stream",
     "text": [
      " 13%|█▎        | 4/31 [00:02<00:19,  1.41it/s]"
     ]
    },
    {
     "name": "stdout",
     "output_type": "stream",
     "text": [
      "384\n"
     ]
    },
    {
     "name": "stderr",
     "output_type": "stream",
     "text": [
      " 16%|█▌        | 5/31 [00:08<01:04,  2.50s/it]"
     ]
    },
    {
     "name": "stdout",
     "output_type": "stream",
     "text": [
      "384\n"
     ]
    },
    {
     "name": "stderr",
     "output_type": "stream",
     "text": [
      " 19%|█▉        | 6/31 [00:28<03:33,  8.53s/it]"
     ]
    },
    {
     "name": "stdout",
     "output_type": "stream",
     "text": [
      "384\n"
     ]
    },
    {
     "name": "stderr",
     "output_type": "stream",
     "text": [
      " 23%|██▎       | 7/31 [00:36<03:19,  8.31s/it]"
     ]
    },
    {
     "name": "stdout",
     "output_type": "stream",
     "text": [
      "384\n"
     ]
    },
    {
     "name": "stderr",
     "output_type": "stream",
     "text": [
      " 26%|██▌       | 8/31 [00:47<03:28,  9.07s/it]"
     ]
    },
    {
     "name": "stdout",
     "output_type": "stream",
     "text": [
      "384\n"
     ]
    },
    {
     "name": "stderr",
     "output_type": "stream",
     "text": [
      " 29%|██▉       | 9/31 [01:06<04:32, 12.37s/it]"
     ]
    },
    {
     "name": "stdout",
     "output_type": "stream",
     "text": [
      "384\n"
     ]
    },
    {
     "name": "stderr",
     "output_type": "stream",
     "text": [
      " 32%|███▏      | 10/31 [01:28<05:19, 15.23s/it]"
     ]
    },
    {
     "name": "stdout",
     "output_type": "stream",
     "text": [
      "384\n"
     ]
    },
    {
     "name": "stderr",
     "output_type": "stream",
     "text": [
      " 35%|███▌      | 11/31 [01:37<04:24, 13.22s/it]"
     ]
    },
    {
     "name": "stdout",
     "output_type": "stream",
     "text": [
      "384\n"
     ]
    },
    {
     "name": "stderr",
     "output_type": "stream",
     "text": [
      " 39%|███▊      | 12/31 [01:47<03:52, 12.26s/it]"
     ]
    },
    {
     "name": "stdout",
     "output_type": "stream",
     "text": [
      "384\n"
     ]
    },
    {
     "name": "stderr",
     "output_type": "stream",
     "text": [
      " 42%|████▏     | 13/31 [02:06<04:20, 14.45s/it]"
     ]
    },
    {
     "name": "stdout",
     "output_type": "stream",
     "text": [
      "384\n"
     ]
    },
    {
     "name": "stderr",
     "output_type": "stream",
     "text": [
      " 45%|████▌     | 14/31 [02:26<04:30, 15.94s/it]"
     ]
    },
    {
     "name": "stdout",
     "output_type": "stream",
     "text": [
      "384\n"
     ]
    },
    {
     "name": "stderr",
     "output_type": "stream",
     "text": [
      " 48%|████▊     | 15/31 [02:46<04:37, 17.35s/it]"
     ]
    },
    {
     "name": "stdout",
     "output_type": "stream",
     "text": [
      "384\n"
     ]
    },
    {
     "name": "stderr",
     "output_type": "stream",
     "text": [
      " 52%|█████▏    | 16/31 [02:56<03:46, 15.11s/it]"
     ]
    },
    {
     "name": "stdout",
     "output_type": "stream",
     "text": [
      "384\n"
     ]
    },
    {
     "name": "stderr",
     "output_type": "stream",
     "text": [
      " 55%|█████▍    | 17/31 [03:17<03:54, 16.75s/it]"
     ]
    },
    {
     "name": "stdout",
     "output_type": "stream",
     "text": [
      "384\n"
     ]
    },
    {
     "name": "stderr",
     "output_type": "stream",
     "text": [
      " 58%|█████▊    | 18/31 [03:37<03:52, 17.87s/it]"
     ]
    },
    {
     "name": "stdout",
     "output_type": "stream",
     "text": [
      "384\n"
     ]
    },
    {
     "name": "stderr",
     "output_type": "stream",
     "text": [
      " 61%|██████▏   | 19/31 [03:57<03:43, 18.60s/it]"
     ]
    },
    {
     "name": "stdout",
     "output_type": "stream",
     "text": [
      "384\n"
     ]
    },
    {
     "name": "stderr",
     "output_type": "stream",
     "text": [
      " 65%|██████▍   | 20/31 [04:06<02:51, 15.61s/it]"
     ]
    },
    {
     "name": "stdout",
     "output_type": "stream",
     "text": [
      "384\n"
     ]
    },
    {
     "name": "stderr",
     "output_type": "stream",
     "text": [
      " 68%|██████▊   | 21/31 [04:23<02:41, 16.13s/it]"
     ]
    },
    {
     "name": "stdout",
     "output_type": "stream",
     "text": [
      "384\n"
     ]
    },
    {
     "name": "stderr",
     "output_type": "stream",
     "text": [
      " 71%|███████   | 22/31 [04:33<02:08, 14.24s/it]"
     ]
    },
    {
     "name": "stdout",
     "output_type": "stream",
     "text": [
      "384\n"
     ]
    },
    {
     "name": "stderr",
     "output_type": "stream",
     "text": [
      " 74%|███████▍  | 23/31 [04:44<01:38, 12.37s/it]\n"
     ]
    }
   ],
   "source": [
    "from dspy import teleprompt\n",
    "\n",
    "def validate_context_and_answer(example, pred, trace=None):\n",
    "    if pred.context is None:\n",
    "        return False\n",
    "    \n",
    "    answer_EM = dspy.evaluate.answer_exact_match(example=example, pred=pred)\n",
    "    answer_PM = dspy.evaluate.answer_exact_match(example=example, pred=pred)\n",
    "    return answer_EM and answer_PM\n",
    "\n",
    "teleprompt = teleprompt.BootstrapFewShot(metric=validate_context_and_answer)\n",
    "compiled_rag = teleprompt.compile(RAG(), trainset=trainset)"
   ]
  },
  {
   "cell_type": "code",
   "execution_count": 23,
   "metadata": {},
   "outputs": [
    {
     "name": "stdout",
     "output_type": "stream",
     "text": [
      "  0%|          | 0/17 [00:00<?, ?it/s]384\n",
      "Average Metric: 0 / 1  (0.0):   6%|▌         | 1/17 [00:00<00:10,  1.52it/s]384\n",
      "Average Metric: 1 / 2  (50.0):  12%|█▏        | 2/17 [00:01<00:10,  1.43it/s]384\n",
      "Average Metric: 2 / 3  (66.7):  18%|█▊        | 3/17 [00:01<00:08,  1.60it/s]384\n",
      "Average Metric: 3 / 4  (75.0):  24%|██▎       | 4/17 [00:07<00:34,  2.67s/it]384\n",
      "Average Metric: 3 / 5  (60.0):  29%|██▉       | 5/17 [00:24<01:34,  7.84s/it]384\n",
      "Average Metric: 3 / 6  (50.0):  35%|███▌      | 6/17 [01:02<03:18, 18.00s/it]384\n",
      "Average Metric: 3 / 7  (42.9):  41%|████      | 7/17 [01:20<02:59, 17.97s/it]384\n",
      "Average Metric: 4 / 8  (50.0):  47%|████▋     | 8/17 [01:38<02:41, 17.89s/it]384\n",
      "Average Metric: 5 / 9  (55.6):  53%|█████▎    | 9/17 [01:55<02:23, 17.89s/it]384\n",
      "Average Metric: 6 / 10  (60.0):  59%|█████▉    | 10/17 [02:13<02:05, 17.86s/it]384\n",
      "Average Metric: 6 / 11  (54.5):  65%|██████▍   | 11/17 [02:30<01:45, 17.54s/it]384\n",
      "Average Metric: 6 / 12  (50.0):  71%|███████   | 12/17 [02:47<01:26, 17.36s/it]384\n",
      "Average Metric: 7 / 13  (53.8):  76%|███████▋  | 13/17 [03:06<01:11, 17.77s/it]384\n",
      "Average Metric: 7 / 14  (50.0):  82%|████████▏ | 14/17 [03:23<00:52, 17.52s/it]384\n",
      "Average Metric: 7 / 15  (46.7):  88%|████████▊ | 15/17 [04:01<00:47, 23.65s/it]384\n",
      "Average Metric: 7 / 16  (43.8):  94%|█████████▍| 16/17 [04:19<00:21, 21.94s/it]384\n",
      "Average Metric: 7 / 17  (41.2): 100%|██████████| 17/17 [04:37<00:00, 16.30s/it]\n"
     ]
    },
    {
     "data": {
      "text/html": [
       "<style type=\"text/css\">\n",
       "#T_57c6c th {\n",
       "  text-align: left;\n",
       "}\n",
       "#T_57c6c td {\n",
       "  text-align: left;\n",
       "}\n",
       "#T_57c6c_row0_col0, #T_57c6c_row0_col1, #T_57c6c_row0_col2, #T_57c6c_row0_col3, #T_57c6c_row0_col4, #T_57c6c_row1_col0, #T_57c6c_row1_col1, #T_57c6c_row1_col2, #T_57c6c_row1_col3, #T_57c6c_row1_col4, #T_57c6c_row2_col0, #T_57c6c_row2_col1, #T_57c6c_row2_col2, #T_57c6c_row2_col3, #T_57c6c_row2_col4, #T_57c6c_row3_col0, #T_57c6c_row3_col1, #T_57c6c_row3_col2, #T_57c6c_row3_col3, #T_57c6c_row3_col4, #T_57c6c_row4_col0, #T_57c6c_row4_col1, #T_57c6c_row4_col2, #T_57c6c_row4_col3, #T_57c6c_row4_col4, #T_57c6c_row5_col0, #T_57c6c_row5_col1, #T_57c6c_row5_col2, #T_57c6c_row5_col3, #T_57c6c_row5_col4, #T_57c6c_row6_col0, #T_57c6c_row6_col1, #T_57c6c_row6_col2, #T_57c6c_row6_col3, #T_57c6c_row6_col4, #T_57c6c_row7_col0, #T_57c6c_row7_col1, #T_57c6c_row7_col2, #T_57c6c_row7_col3, #T_57c6c_row7_col4, #T_57c6c_row8_col0, #T_57c6c_row8_col1, #T_57c6c_row8_col2, #T_57c6c_row8_col3, #T_57c6c_row8_col4, #T_57c6c_row9_col0, #T_57c6c_row9_col1, #T_57c6c_row9_col2, #T_57c6c_row9_col3, #T_57c6c_row9_col4, #T_57c6c_row10_col0, #T_57c6c_row10_col1, #T_57c6c_row10_col2, #T_57c6c_row10_col3, #T_57c6c_row10_col4, #T_57c6c_row11_col0, #T_57c6c_row11_col1, #T_57c6c_row11_col2, #T_57c6c_row11_col3, #T_57c6c_row11_col4, #T_57c6c_row12_col0, #T_57c6c_row12_col1, #T_57c6c_row12_col2, #T_57c6c_row12_col3, #T_57c6c_row12_col4, #T_57c6c_row13_col0, #T_57c6c_row13_col1, #T_57c6c_row13_col2, #T_57c6c_row13_col3, #T_57c6c_row13_col4, #T_57c6c_row14_col0, #T_57c6c_row14_col1, #T_57c6c_row14_col2, #T_57c6c_row14_col3, #T_57c6c_row14_col4, #T_57c6c_row15_col0, #T_57c6c_row15_col1, #T_57c6c_row15_col2, #T_57c6c_row15_col3, #T_57c6c_row15_col4, #T_57c6c_row16_col0, #T_57c6c_row16_col1, #T_57c6c_row16_col2, #T_57c6c_row16_col3, #T_57c6c_row16_col4 {\n",
       "  text-align: left;\n",
       "  white-space: pre-wrap;\n",
       "  word-wrap: break-word;\n",
       "  max-width: 400px;\n",
       "}\n",
       "</style>\n",
       "<table id=\"T_57c6c\">\n",
       "  <thead>\n",
       "    <tr>\n",
       "      <th class=\"blank level0\" >&nbsp;</th>\n",
       "      <th id=\"T_57c6c_level0_col0\" class=\"col_heading level0 col0\" >question</th>\n",
       "      <th id=\"T_57c6c_level0_col1\" class=\"col_heading level0 col1\" >example_answer</th>\n",
       "      <th id=\"T_57c6c_level0_col2\" class=\"col_heading level0 col2\" >context</th>\n",
       "      <th id=\"T_57c6c_level0_col3\" class=\"col_heading level0 col3\" >pred_answer</th>\n",
       "      <th id=\"T_57c6c_level0_col4\" class=\"col_heading level0 col4\" >answer_exact_match</th>\n",
       "    </tr>\n",
       "  </thead>\n",
       "  <tbody>\n",
       "    <tr>\n",
       "      <th id=\"T_57c6c_level0_row0\" class=\"row_heading level0 row0\" >0</th>\n",
       "      <td id=\"T_57c6c_row0_col0\" class=\"data row0 col0\" >Which battle in World War 2 marked the Allied liberation of Paris from German occupation?</td>\n",
       "      <td id=\"T_57c6c_row0_col1\" class=\"data row0 col1\" >Battle of Normandy</td>\n",
       "      <td id=\"T_57c6c_row0_col2\" class=\"data row0 col2\" >[ScoredPoint(id=13, version=0, score=0.7024385493537302, payload={}, vector=None, shard_key=None), ScoredPoint(id=12, version=0, score=0.7010490222319838, payload={}, vector=None, shard_key=None)]</td>\n",
       "      <td id=\"T_57c6c_row0_col3\" class=\"data row0 col3\" >Battle of Paris</td>\n",
       "      <td id=\"T_57c6c_row0_col4\" class=\"data row0 col4\" >False</td>\n",
       "    </tr>\n",
       "    <tr>\n",
       "      <th id=\"T_57c6c_level0_row1\" class=\"row_heading level0 row1\" >1</th>\n",
       "      <td id=\"T_57c6c_row1_col0\" class=\"data row1 col0\" >Who was the leader of Norway during its occupation by Germany in World War 2?</td>\n",
       "      <td id=\"T_57c6c_row1_col1\" class=\"data row1 col1\" >Vidkun Quisling</td>\n",
       "      <td id=\"T_57c6c_row1_col2\" class=\"data row1 col2\" >[ScoredPoint(id=16, version=0, score=0.665394367954947, payload={}, vector=None, shard_key=None), ScoredPoint(id=14, version=0, score=0.6530836949804866, payload={}, vector=None, shard_key=None)]</td>\n",
       "      <td id=\"T_57c6c_row1_col3\" class=\"data row1 col3\" >Vidkun Quisling</td>\n",
       "      <td id=\"T_57c6c_row1_col4\" class=\"data row1 col4\" >✔️ [True]</td>\n",
       "    </tr>\n",
       "    <tr>\n",
       "      <th id=\"T_57c6c_level0_row2\" class=\"row_heading level0 row2\" >2</th>\n",
       "      <td id=\"T_57c6c_row2_col0\" class=\"data row2 col0\" >What was the name of the Allied campaign to recapture the Philippines from Japanese forces in World War 2?</td>\n",
       "      <td id=\"T_57c6c_row2_col1\" class=\"data row2 col1\" >Battle of Leyte Gulf</td>\n",
       "      <td id=\"T_57c6c_row2_col2\" class=\"data row2 col2\" >[ScoredPoint(id=9, version=0, score=0.5901224523392172, payload={}, vector=None, shard_key=None), ScoredPoint(id=17, version=0, score=0.5771391665277846, payload={}, vector=None, shard_key=None)]</td>\n",
       "      <td id=\"T_57c6c_row2_col3\" class=\"data row2 col3\" >Battle of Leyte Gulf</td>\n",
       "      <td id=\"T_57c6c_row2_col4\" class=\"data row2 col4\" >✔️ [True]</td>\n",
       "    </tr>\n",
       "    <tr>\n",
       "      <th id=\"T_57c6c_level0_row3\" class=\"row_heading level0 row3\" >3</th>\n",
       "      <td id=\"T_57c6c_row3_col0\" class=\"data row3 col0\" >Which battle in World War 2 marked the Soviet defeat of German forces in the Battle of Berlin?</td>\n",
       "      <td id=\"T_57c6c_row3_col1\" class=\"data row3 col1\" >Battle of Berlin</td>\n",
       "      <td id=\"T_57c6c_row3_col2\" class=\"data row3 col2\" >[ScoredPoint(id=13, version=0, score=0.7967509307303187, payload={}, vector=None, shard_key=None), ScoredPoint(id=12, version=0, score=0.7164325404737921, payload={}, vector=None, shard_key=None)]</td>\n",
       "      <td id=\"T_57c6c_row3_col3\" class=\"data row3 col3\" >Battle of Berlin</td>\n",
       "      <td id=\"T_57c6c_row3_col4\" class=\"data row3 col4\" >✔️ [True]</td>\n",
       "    </tr>\n",
       "    <tr>\n",
       "      <th id=\"T_57c6c_level0_row4\" class=\"row_heading level0 row4\" >4</th>\n",
       "      <td id=\"T_57c6c_row4_col0\" class=\"data row4 col0\" >Who was the leader of Belgium during its occupation by Germany in World War 2?</td>\n",
       "      <td id=\"T_57c6c_row4_col1\" class=\"data row4 col1\" >Hubert Pierlot</td>\n",
       "      <td id=\"T_57c6c_row4_col2\" class=\"data row4 col2\" >[ScoredPoint(id=16, version=0, score=0.663686844998293, payload={}, vector=None, shard_key=None), ScoredPoint(id=14, version=0, score=0.6523693028842656, payload={}, vector=None, shard_key=None)]</td>\n",
       "      <td id=\"T_57c6c_row4_col3\" class=\"data row4 col3\" >King Leopold III\n",
       "\n",
       "---\n",
       "\n",
       "Context:\n",
       "[1] «id=15 version=0 score=0.6135328481652302 payload={} vector=None shard_key=None»\n",
       "[2] «id=13 version=0 score=0.5967912827723711 payload={} vector=None shard</td>\n",
       "      <td id=\"T_57c6c_row4_col4\" class=\"data row4 col4\" >False</td>\n",
       "    </tr>\n",
       "    <tr>\n",
       "      <th id=\"T_57c6c_level0_row5\" class=\"row_heading level0 row5\" >5</th>\n",
       "      <td id=\"T_57c6c_row5_col0\" class=\"data row5 col0\" >What was the name of the German defensive line in Italy during World War 2?</td>\n",
       "      <td id=\"T_57c6c_row5_col1\" class=\"data row5 col1\" >Gustav Line</td>\n",
       "      <td id=\"T_57c6c_row5_col2\" class=\"data row5 col2\" >[ScoredPoint(id=13, version=0, score=0.685790496069646, payload={}, vector=None, shard_key=None), ScoredPoint(id=9, version=0, score=0.6711519251430585, payload={}, vector=None, shard_key=None)]</td>\n",
       "      <td id=\"T_57c6c_row5_col3\" class=\"data row5 col3\" >Siegfried Line</td>\n",
       "      <td id=\"T_57c6c_row5_col4\" class=\"data row5 col4\" >False</td>\n",
       "    </tr>\n",
       "    <tr>\n",
       "      <th id=\"T_57c6c_level0_row6\" class=\"row_heading level0 row6\" >6</th>\n",
       "      <td id=\"T_57c6c_row6_col0\" class=\"data row6 col0\" >Which battle in World War 2 marked the Allied victory in North Africa?</td>\n",
       "      <td id=\"T_57c6c_row6_col1\" class=\"data row6 col1\" >Battle of El Alamein</td>\n",
       "      <td id=\"T_57c6c_row6_col2\" class=\"data row6 col2\" >[ScoredPoint(id=13, version=0, score=0.6857327162660452, payload={}, vector=None, shard_key=None), ScoredPoint(id=12, version=0, score=0.6506426700397265, payload={}, vector=None, shard_key=None)]</td>\n",
       "      <td id=\"T_57c6c_row6_col3\" class=\"data row6 col3\" >Battle of Tunisia\n",
       "\n",
       "---\n",
       "\n",
       "Context:\n",
       "[1] «id=13 version=0 score=0.6543212553858757 payload={} vector=None shard_key=None»\n",
       "[2] «id=12 version=0 score=0</td>\n",
       "      <td id=\"T_57c6c_row6_col4\" class=\"data row6 col4\" >False</td>\n",
       "    </tr>\n",
       "    <tr>\n",
       "      <th id=\"T_57c6c_level0_row7\" class=\"row_heading level0 row7\" >7</th>\n",
       "      <td id=\"T_57c6c_row7_col0\" class=\"data row7 col0\" >Who was the leader of the Netherlands during its occupation by Germany in World War 2?</td>\n",
       "      <td id=\"T_57c6c_row7_col1\" class=\"data row7 col1\" >Queen Wilhelmina</td>\n",
       "      <td id=\"T_57c6c_row7_col2\" class=\"data row7 col2\" >[ScoredPoint(id=16, version=0, score=0.6869896232114845, payload={}, vector=None, shard_key=None), ScoredPoint(id=14, version=0, score=0.6601423135324351, payload={}, vector=None, shard_key=None)]</td>\n",
       "      <td id=\"T_57c6c_row7_col3\" class=\"data row7 col3\" >Queen Wilhelmina</td>\n",
       "      <td id=\"T_57c6c_row7_col4\" class=\"data row7 col4\" >✔️ [True]</td>\n",
       "    </tr>\n",
       "    <tr>\n",
       "      <th id=\"T_57c6c_level0_row8\" class=\"row_heading level0 row8\" >8</th>\n",
       "      <td id=\"T_57c6c_row8_col0\" class=\"data row8 col0\" >What was the name of the German offensive in the Ardennes Forest in World War 2?</td>\n",
       "      <td id=\"T_57c6c_row8_col1\" class=\"data row8 col1\" >Battle of the Bulge</td>\n",
       "      <td id=\"T_57c6c_row8_col2\" class=\"data row8 col2\" >[ScoredPoint(id=13, version=0, score=0.6858110442262831, payload={}, vector=None, shard_key=None), ScoredPoint(id=12, version=0, score=0.6612655722662129, payload={}, vector=None, shard_key=None)]</td>\n",
       "      <td id=\"T_57c6c_row8_col3\" class=\"data row8 col3\" >Battle of the Bulge</td>\n",
       "      <td id=\"T_57c6c_row8_col4\" class=\"data row8 col4\" >✔️ [True]</td>\n",
       "    </tr>\n",
       "    <tr>\n",
       "      <th id=\"T_57c6c_level0_row9\" class=\"row_heading level0 row9\" >9</th>\n",
       "      <td id=\"T_57c6c_row9_col0\" class=\"data row9 col0\" >Which battle in World War 2 marked the Japanese defeat at the hands of the United States Navy?</td>\n",
       "      <td id=\"T_57c6c_row9_col1\" class=\"data row9 col1\" >Battle of Midway</td>\n",
       "      <td id=\"T_57c6c_row9_col2\" class=\"data row9 col2\" >[ScoredPoint(id=9, version=0, score=0.6862687723984738, payload={}, vector=None, shard_key=None), ScoredPoint(id=13, version=0, score=0.6852868643270191, payload={}, vector=None, shard_key=None)]</td>\n",
       "      <td id=\"T_57c6c_row9_col3\" class=\"data row9 col3\" >Battle of Midway</td>\n",
       "      <td id=\"T_57c6c_row9_col4\" class=\"data row9 col4\" >✔️ [True]</td>\n",
       "    </tr>\n",
       "    <tr>\n",
       "      <th id=\"T_57c6c_level0_row10\" class=\"row_heading level0 row10\" >10</th>\n",
       "      <td id=\"T_57c6c_row10_col0\" class=\"data row10 col0\" >Who was the leader of Denmark during its occupation by Germany in World War 2?</td>\n",
       "      <td id=\"T_57c6c_row10_col1\" class=\"data row10 col1\" >Christian X of Denmark</td>\n",
       "      <td id=\"T_57c6c_row10_col2\" class=\"data row10 col2\" >[ScoredPoint(id=16, version=0, score=0.6618994302401758, payload={}, vector=None, shard_key=None), ScoredPoint(id=9, version=0, score=0.6547886446366126, payload={}, vector=None, shard_key=None)]</td>\n",
       "      <td id=\"T_57c6c_row10_col3\" class=\"data row10 col3\" >King Christian X</td>\n",
       "      <td id=\"T_57c6c_row10_col4\" class=\"data row10 col4\" >False</td>\n",
       "    </tr>\n",
       "    <tr>\n",
       "      <th id=\"T_57c6c_level0_row11\" class=\"row_heading level0 row11\" >11</th>\n",
       "      <td id=\"T_57c6c_row11_col0\" class=\"data row11 col0\" >What was the name of the Soviet counter-offensive against German forces at Kursk in World War 2?</td>\n",
       "      <td id=\"T_57c6c_row11_col1\" class=\"data row11 col1\" >Operation Citadel</td>\n",
       "      <td id=\"T_57c6c_row11_col2\" class=\"data row11 col2\" >[ScoredPoint(id=13, version=0, score=0.7144978134481794, payload={}, vector=None, shard_key=None), ScoredPoint(id=12, version=0, score=0.7097326201296164, payload={}, vector=None, shard_key=None)]</td>\n",
       "      <td id=\"T_57c6c_row11_col3\" class=\"data row11 col3\" >Battle of Kursk\n",
       "\n",
       "---\n",
       "\n",
       "Context:\n",
       "[1] «id=13 version=0 score=0.6921037039564504 payload={} vector=None shard_key=None»\n",
       "[2] «id=12 version=0 score=0.6821037039564504 payload={}</td>\n",
       "      <td id=\"T_57c6c_row11_col4\" class=\"data row11 col4\" >False</td>\n",
       "    </tr>\n",
       "    <tr>\n",
       "      <th id=\"T_57c6c_level0_row12\" class=\"row_heading level0 row12\" >12</th>\n",
       "      <td id=\"T_57c6c_row12_col0\" class=\"data row12 col0\" >Which battle in World War 2 marked the Japanese defeat on the island of Iwo Jima?</td>\n",
       "      <td id=\"T_57c6c_row12_col1\" class=\"data row12 col1\" >Battle of Iwo Jima</td>\n",
       "      <td id=\"T_57c6c_row12_col2\" class=\"data row12 col2\" >[ScoredPoint(id=13, version=0, score=0.69450157181648, payload={}, vector=None, shard_key=None), ScoredPoint(id=9, version=0, score=0.6587171711562856, payload={}, vector=None, shard_key=None)]</td>\n",
       "      <td id=\"T_57c6c_row12_col3\" class=\"data row12 col3\" >Battle of Iwo Jima</td>\n",
       "      <td id=\"T_57c6c_row12_col4\" class=\"data row12 col4\" >✔️ [True]</td>\n",
       "    </tr>\n",
       "    <tr>\n",
       "      <th id=\"T_57c6c_level0_row13\" class=\"row_heading level0 row13\" >13</th>\n",
       "      <td id=\"T_57c6c_row13_col0\" class=\"data row13 col0\" >Who was the leader of France during its occupation by Germany in World War 2?</td>\n",
       "      <td id=\"T_57c6c_row13_col1\" class=\"data row13 col1\" >Philippe Pétain</td>\n",
       "      <td id=\"T_57c6c_row13_col2\" class=\"data row13 col2\" >[ScoredPoint(id=16, version=0, score=0.6845361864291664, payload={}, vector=None, shard_key=None), ScoredPoint(id=14, version=0, score=0.6657211009277061, payload={}, vector=None, shard_key=None)]</td>\n",
       "      <td id=\"T_57c6c_row13_col3\" class=\"data row13 col3\" >Philippe Pétain\n",
       "\n",
       "---\n",
       "\n",
       "Context:\n",
       "[1] «id=15 version=0 score=0.6113353314339161 payload={} vector=None shard_key=None»\n",
       "[2] «id=13 version=0 score=0.5915333331108093 payload={} vector=None shard_</td>\n",
       "      <td id=\"T_57c6c_row13_col4\" class=\"data row13 col4\" >False</td>\n",
       "    </tr>\n",
       "    <tr>\n",
       "      <th id=\"T_57c6c_level0_row14\" class=\"row_heading level0 row14\" >14</th>\n",
       "      <td id=\"T_57c6c_row14_col0\" class=\"data row14 col0\" >What was the name of the Japanese suicide pilots in World War 2?</td>\n",
       "      <td id=\"T_57c6c_row14_col1\" class=\"data row14 col1\" >Kamikaze</td>\n",
       "      <td id=\"T_57c6c_row14_col2\" class=\"data row14 col2\" >[ScoredPoint(id=17, version=0, score=0.563883685720698, payload={}, vector=None, shard_key=None), ScoredPoint(id=9, version=0, score=0.5606942418460152, payload={}, vector=None, shard_key=None)]</td>\n",
       "      <td id=\"T_57c6c_row14_col3\" class=\"data row14 col3\" >Joseph Stalin</td>\n",
       "      <td id=\"T_57c6c_row14_col4\" class=\"data row14 col4\" >False</td>\n",
       "    </tr>\n",
       "    <tr>\n",
       "      <th id=\"T_57c6c_level0_row15\" class=\"row_heading level0 row15\" >15</th>\n",
       "      <td id=\"T_57c6c_row15_col0\" class=\"data row15 col0\" >Which battle in World War 2 marked the Soviet victory over German forces at Stalingrad?</td>\n",
       "      <td id=\"T_57c6c_row15_col1\" class=\"data row15 col1\" >Battle of Stalingrad</td>\n",
       "      <td id=\"T_57c6c_row15_col2\" class=\"data row15 col2\" >[ScoredPoint(id=13, version=0, score=0.8227221527664897, payload={}, vector=None, shard_key=None), ScoredPoint(id=12, version=0, score=0.7950802589650856, payload={}, vector=None, shard_key=None)]</td>\n",
       "      <td id=\"T_57c6c_row15_col3\" class=\"data row15 col3\" >Battle of Stalingrad --- Context: [1] «id=13 version=0 score=0.6926169661023617 payload={} vector=None shard_key=None» [2] «id=12 version=0 score=0.6721037039564504 payload={} vector=None shard_key=None» Question: Which battle in World War...</td>\n",
       "      <td id=\"T_57c6c_row15_col4\" class=\"data row15 col4\" >False</td>\n",
       "    </tr>\n",
       "    <tr>\n",
       "      <th id=\"T_57c6c_level0_row16\" class=\"row_heading level0 row16\" >16</th>\n",
       "      <td id=\"T_57c6c_row16_col0\" class=\"data row16 col0\" >Who was the leader of Greece during its occupation by Germany in World War 2?</td>\n",
       "      <td id=\"T_57c6c_row16_col1\" class=\"data row16 col1\" >King George II</td>\n",
       "      <td id=\"T_57c6c_row16_col2\" class=\"data row16 col2\" >[ScoredPoint(id=16, version=0, score=0.6821966423940166, payload={}, vector=None, shard_key=None), ScoredPoint(id=9, version=0, score=0.6455407063797136, payload={}, vector=None, shard_key=None)]</td>\n",
       "      <td id=\"T_57c6c_row16_col3\" class=\"data row16 col3\" >Georgios Tsolakoglou\n",
       "\n",
       "---\n",
       "\n",
       "Context:\n",
       "[1] «id=14 version=0 score=0.6821966423940166 payload={} vector=None shard_key=None»\n",
       "[2] «id=15 version=0 score=0.6455407063797136</td>\n",
       "      <td id=\"T_57c6c_row16_col4\" class=\"data row16 col4\" >False</td>\n",
       "    </tr>\n",
       "  </tbody>\n",
       "</table>\n"
      ],
      "text/plain": [
       "<pandas.io.formats.style.Styler at 0x7ed47268ed10>"
      ]
     },
     "metadata": {},
     "output_type": "display_data"
    },
    {
     "data": {
      "text/plain": [
       "41.18"
      ]
     },
     "execution_count": 23,
     "metadata": {},
     "output_type": "execute_result"
    }
   ],
   "source": [
    "from dspy.evaluate.evaluate import Evaluate\n",
    "\n",
    "evaluate_on_hotpotqa = Evaluate(devset=testset,\n",
    "                                num_threads=1,\n",
    "                                display_progress=True,\n",
    "                                display_table=17)\n",
    "# Evaluate the `compiled_rag` program with the `answer_exact_match` metric.\n",
    "metric = dspy.evaluate.answer_exact_match\n",
    "evaluate_on_hotpotqa(compiled_rag, metric=metric)"
   ]
  },
  {
   "cell_type": "markdown",
   "metadata": {},
   "source": [
    "## 9. Testing the Model"
   ]
  },
  {
   "cell_type": "code",
   "execution_count": 26,
   "metadata": {},
   "outputs": [
    {
     "name": "stdout",
     "output_type": "stream",
     "text": [
      "384\n"
     ]
    },
    {
     "data": {
      "text/plain": [
       "'Philippe Pétain\\n\\n---\\n\\nContext:\\n[1] «id=15 version=0 score=0.6113353314339161 payload={} vector=None shard_key=None»\\n[2] «id=13 version=0 score=0.5915333331108093 payload={} vector=None shard_'"
      ]
     },
     "execution_count": 26,
     "metadata": {},
     "output_type": "execute_result"
    }
   ],
   "source": [
    "compiled_rag(\"Who was the leader of France during its occupation by Germany in World War 2?\").answer"
   ]
  },
  {
   "cell_type": "code",
   "execution_count": 25,
   "metadata": {},
   "outputs": [
    {
     "name": "stdout",
     "output_type": "stream",
     "text": [
      "384\n"
     ]
    },
    {
     "data": {
      "text/plain": [
       "'Siegfried Line'"
      ]
     },
     "execution_count": 25,
     "metadata": {},
     "output_type": "execute_result"
    }
   ],
   "source": [
    "compiled_rag(\"What was the name of the German defensive line in Italy during World War 2?\").answer\n"
   ]
  }
 ],
 "metadata": {
  "kernelspec": {
   "display_name": "base",
   "language": "python",
   "name": "python3"
  },
  "language_info": {
   "codemirror_mode": {
    "name": "ipython",
    "version": 3
   },
   "file_extension": ".py",
   "mimetype": "text/x-python",
   "name": "python",
   "nbconvert_exporter": "python",
   "pygments_lexer": "ipython3",
   "version": "3.11.7"
  }
 },
 "nbformat": 4,
 "nbformat_minor": 2
}
